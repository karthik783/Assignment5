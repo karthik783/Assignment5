{
  "nbformat": 4,
  "nbformat_minor": 0,
  "metadata": {
    "colab": {
      "name": "Untitled3.ipynb",
      "provenance": [],
      "collapsed_sections": [],
      "authorship_tag": "ABX9TyPNoB4KQU8/k0EloNMmYE6A",
      "include_colab_link": true
    },
    "kernelspec": {
      "name": "python3",
      "display_name": "Python 3"
    }
  },
  "cells": [
    {
      "cell_type": "markdown",
      "metadata": {
        "id": "view-in-github",
        "colab_type": "text"
      },
      "source": [
        "<a href=\"https://colab.research.google.com/github/karthik783/Assignment5/blob/master/Untitled3.ipynb\" target=\"_parent\"><img src=\"https://colab.research.google.com/assets/colab-badge.svg\" alt=\"Open In Colab\"/></a>"
      ]
    },
    {
      "cell_type": "code",
      "metadata": {
        "id": "y6W5m0RDt_fv",
        "colab_type": "code",
        "colab": {
          "base_uri": "https://localhost:8080/",
          "height": 50
        },
        "outputId": "6caef1c5-1f0c-4140-cf6c-e1342cf49577"
      },
      "source": [
        "#Python program to find area of a circle using math function.\n",
        "import math\n",
        "r=float(input(\"enter the Area of circle\"))\n",
        "Area=math.pi*r*r\n",
        "print(\"Area of circle is:%2f\"%area)"
      ],
      "execution_count": 75,
      "outputs": [
        {
          "output_type": "stream",
          "text": [
            "enter the Area of circle9\n",
            "Area of circle is:1963.495408\n"
          ],
          "name": "stdout"
        }
      ]
    },
    {
      "cell_type": "code",
      "metadata": {
        "id": "ST6XX4F_ur4v",
        "colab_type": "code",
        "colab": {
          "base_uri": "https://localhost:8080/",
          "height": 67
        },
        "outputId": "66261716-0f22-401b-824b-296af4d14042"
      },
      "source": [
        "#a program to find Area of Regular Polygonusing math function.\n",
        "from math import tan, pi\n",
        "n_sides = int(input(\"Input number of sides: \"))\n",
        "s_length = float(input(\"Input the length of a side: \"))\n",
        "p_area = n_sides * (s_length ** 2) / (4 * tan(pi / n_sides))\n",
        "print(\"The area of the polygon is: \",p_area)"
      ],
      "execution_count": 76,
      "outputs": [
        {
          "output_type": "stream",
          "text": [
            "Input number of sides: 7\n",
            "Input the length of a side: 8\n",
            "The area of the polygon is:  232.57039641610172\n"
          ],
          "name": "stdout"
        }
      ]
    },
    {
      "cell_type": "code",
      "metadata": {
        "id": "-SxzTgNMvm7C",
        "colab_type": "code",
        "colab": {
          "base_uri": "https://localhost:8080/",
          "height": 50
        },
        "outputId": "823bc9f4-2f59-4ee6-817e-e26656038dba"
      },
      "source": [
        "#a program to find Area of a Segment of a Circle Formulausing math function.\n",
        "import math \n",
        "pi = 3.14159\n",
        "def area_of_segment(radius, angle): \n",
        "    area_of_sector = pi *  (radius * radius)  * (angle / 360) \n",
        "    area_of_triangle = 1 / 2 *  (radius * radius) *math.sin((angle * pi) / 180)\n",
        "    return area_of_sector - area_of_triangle; \n",
        "radius = 20.0\n",
        "angle = 80.0\n",
        "print(\"Area of minor segment =\", area_of_segment(radius, angle)) \n",
        "print(\"Area of major segment =\", area_of_segment(radius, (360 - angle))) "
      ],
      "execution_count": 78,
      "outputs": [
        {
          "output_type": "stream",
          "text": [
            "Area of minor segment = 82.29093480134264\n",
            "Area of major segment = 1174.345249513529\n"
          ],
          "name": "stdout"
        }
      ]
    },
    {
      "cell_type": "code",
      "metadata": {
        "id": "QG8btwiK7OgQ",
        "colab_type": "code",
        "colab": {
          "base_uri": "https://localhost:8080/",
          "height": 50
        },
        "outputId": "9a234d96-6825-4252-a41a-e3ac4ae1d1c4"
      },
      "source": [
        "#python program to shuffle list l1=[100,1,2,3,30,40,”hai”,”hello”].\n",
        "import random\n",
        "list = ['100','1','2','3','30','40',\"hai\",\"hello\"];\n",
        "random.shuffle(list)\n",
        "print (\" list : \",  list)\n",
        "random.shuffle(list)\n",
        "print (\"shuffled list : \",  list)"
      ],
      "execution_count": 79,
      "outputs": [
        {
          "output_type": "stream",
          "text": [
            " list :  ['100', '3', '1', '2', 'hai', '40', '30', 'hello']\n",
            "shuffled list :  ['3', 'hai', '30', '40', '2', 'hello', '100', '1']\n"
          ],
          "name": "stdout"
        }
      ]
    },
    {
      "cell_type": "code",
      "metadata": {
        "id": "lKKaIHQx_eVl",
        "colab_type": "code",
        "colab": {
          "base_uri": "https://localhost:8080/",
          "height": 34
        },
        "outputId": "86c0a7c2-fd08-4c2e-ea3b-31e188ba29ab"
      },
      "source": [
        "#a program to generate random numbers between 1,10000 and difference between each random number is 50.\n",
        "import random\n",
        "num=random.randrange(1,1000,50)\n",
        "print(\"random number: \",num)"
      ],
      "execution_count": 80,
      "outputs": [
        {
          "output_type": "stream",
          "text": [
            "random number:  451\n"
          ],
          "name": "stdout"
        }
      ]
    },
    {
      "cell_type": "code",
      "metadata": {
        "id": "HkhPGjaOCxJw",
        "colab_type": "code",
        "colab": {
          "base_uri": "https://localhost:8080/",
          "height": 34
        },
        "outputId": "ccb9dbb2-9ba2-4679-e609-00fa9dacaac0"
      },
      "source": [
        "#python program by using math module to find\n",
        "#i.\tSin600\n",
        "import math  \n",
        "a = math.pi / 6\n",
        "print (\"The value of sine of pi / 6 is : \", end =\"\")  \n",
        "print (math.sin(a))  "
      ],
      "execution_count": 81,
      "outputs": [
        {
          "output_type": "stream",
          "text": [
            "The value of sine of pi / 6 is : 0.49999999999999994\n"
          ],
          "name": "stdout"
        }
      ]
    },
    {
      "cell_type": "code",
      "metadata": {
        "id": "1_5ej_7dDRAN",
        "colab_type": "code",
        "colab": {
          "base_uri": "https://localhost:8080/",
          "height": 34
        },
        "outputId": "3a0b69aa-f6c0-4a87-ca6d-66ca2aca9748"
      },
      "source": [
        "#ii.\tcos(pi)\n",
        "import math  \n",
        "a = math.pi / 6\n",
        "print (\"The value of cosine of pi / 6 is : \", end =\"\")  \n",
        "print (math.cos(a))  "
      ],
      "execution_count": 82,
      "outputs": [
        {
          "output_type": "stream",
          "text": [
            "The value of cosine of pi / 6 is : 0.8660254037844387\n"
          ],
          "name": "stdout"
        }
      ]
    },
    {
      "cell_type": "code",
      "metadata": {
        "id": "OSM3iWY3EONG",
        "colab_type": "code",
        "colab": {
          "base_uri": "https://localhost:8080/",
          "height": 34
        },
        "outputId": "90f6b1d1-fa90-4689-a50f-c4aa13508cf9"
      },
      "source": [
        "#iii.\ttan900\n",
        "import math  \n",
        "a = math.pi / 6\n",
        "print (\"The value of tangent of pi / 6 is : \", end =\"\")  \n",
        "print (math.tan(a))  "
      ],
      "execution_count": 83,
      "outputs": [
        {
          "output_type": "stream",
          "text": [
            "The value of tangent of pi / 6 is : 0.5773502691896257\n"
          ],
          "name": "stdout"
        }
      ]
    },
    {
      "cell_type": "code",
      "metadata": {
        "id": "OADe-3QoEnMA",
        "colab_type": "code",
        "colab": {
          "base_uri": "https://localhost:8080/",
          "height": 34
        },
        "outputId": "2985b91e-acc0-495f-ec1c-a1a76b7d6cb2"
      },
      "source": [
        "#iv.\tangle of sin(0.8660254037844386)\n",
        "import math\n",
        "print(math.sin(math.pi/3))"
      ],
      "execution_count": 84,
      "outputs": [
        {
          "output_type": "stream",
          "text": [
            "0.8660254037844386\n"
          ],
          "name": "stdout"
        }
      ]
    },
    {
      "cell_type": "code",
      "metadata": {
        "id": "8sRSDbNEG5nS",
        "colab_type": "code",
        "colab": {
          "base_uri": "https://localhost:8080/",
          "height": 34
        },
        "outputId": "696462ee-3145-4fcc-8b1a-2a773b428e53"
      },
      "source": [
        "#v.\t5^8\n",
        "import math\n",
        "a=5^8\n",
        "print(a)\n"
      ],
      "execution_count": 85,
      "outputs": [
        {
          "output_type": "stream",
          "text": [
            "13\n"
          ],
          "name": "stdout"
        }
      ]
    },
    {
      "cell_type": "code",
      "metadata": {
        "id": "gO7UgxyFNlqo",
        "colab_type": "code",
        "colab": {
          "base_uri": "https://localhost:8080/",
          "height": 34
        },
        "outputId": "5897b903-4480-460a-cd2a-f0805645ad09"
      },
      "source": [
        "#vi.\tSquare root of 400\n",
        "math.sqrt(400)"
      ],
      "execution_count": 86,
      "outputs": [
        {
          "output_type": "execute_result",
          "data": {
            "text/plain": [
              "20.0"
            ]
          },
          "metadata": {
            "tags": []
          },
          "execution_count": 86
        }
      ]
    },
    {
      "cell_type": "code",
      "metadata": {
        "id": "vH-fNHexNu2H",
        "colab_type": "code",
        "colab": {
          "base_uri": "https://localhost:8080/",
          "height": 34
        },
        "outputId": "0379270f-a25e-4ab7-e349-4d6e611a7890"
      },
      "source": [
        "#vii.\tThe value of 5^e\n",
        "import math\n",
        "x=5\n",
        "b=math.e**x\n",
        "print(b)"
      ],
      "execution_count": 87,
      "outputs": [
        {
          "output_type": "stream",
          "text": [
            "148.41315910257657\n"
          ],
          "name": "stdout"
        }
      ]
    },
    {
      "cell_type": "code",
      "metadata": {
        "id": "Vyv0Xa8kbsfy",
        "colab_type": "code",
        "colab": {
          "base_uri": "https://localhost:8080/",
          "height": 34
        },
        "outputId": "890712a5-3075-4401-ed5b-dcaa6c8f6fb1"
      },
      "source": [
        "#viii.\tThe value of Log(1024), base 2\n",
        "import math\n",
        "print (\"Logarithm base 2 of 1024 is : \", end=\"\") \n",
        "print (math.log2(1024)) "
      ],
      "execution_count": 88,
      "outputs": [
        {
          "output_type": "stream",
          "text": [
            "Logarithm base 2 of 1024 is : 10.0\n"
          ],
          "name": "stdout"
        }
      ]
    },
    {
      "cell_type": "code",
      "metadata": {
        "id": "v0oAPNkgcXVv",
        "colab_type": "code",
        "colab": {
          "base_uri": "https://localhost:8080/",
          "height": 34
        },
        "outputId": "49c6898f-a5bb-4ae8-c467-973a4e17d609"
      },
      "source": [
        "#ix.\tThe value of Log(1024), base 10\n",
        "import math\n",
        "print (\"Logarithm base 10 of 1024 is : \", end=\"\") \n",
        "print (math.log10(1024)) \n"
      ],
      "execution_count": 89,
      "outputs": [
        {
          "output_type": "stream",
          "text": [
            "Logarithm base 10 of 1024 is : 3.010299956639812\n"
          ],
          "name": "stdout"
        }
      ]
    },
    {
      "cell_type": "code",
      "metadata": {
        "id": "O4pgPuK4cjNw",
        "colab_type": "code",
        "colab": {
          "base_uri": "https://localhost:8080/",
          "height": 50
        },
        "outputId": "46e5c830-dcab-4bc2-8b9e-b41acec2b173"
      },
      "source": [
        "#x.\tThe Floor and Ceiling value of 23.56 \n",
        "import math     \n",
        "print(\"math.floor(23.56) : \", math.floor(23.56))\n",
        "print(\"math.ceil(23.56) : \", math.ceil(23.56)) "
      ],
      "execution_count": 90,
      "outputs": [
        {
          "output_type": "stream",
          "text": [
            "math.floor(23.56) :  23\n",
            "math.ceil(23.56) :  24\n"
          ],
          "name": "stdout"
        }
      ]
    }
  ]
}